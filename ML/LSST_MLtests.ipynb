{
 "cells": [
  {
   "cell_type": "code",
   "execution_count": 25,
   "metadata": {
    "collapsed": false
   },
   "outputs": [],
   "source": [
    "import sys\n",
    "reload(sys)\n",
    "sys.setdefaultencoding(\"utf-8\")\n",
    "import numpy as np\n",
    "import matplotlib.pyplot as pl\n",
    "import pandas as pd\n",
    "import astropy\n",
    "import json\n",
    "import tensorflow as tf\n",
    "from sklearn.decomposition import PCA\n",
    "import zoomer;\n",
    "%matplotlib inline"
   ]
  },
  {
   "cell_type": "code",
   "execution_count": 28,
   "metadata": {
    "collapsed": true
   },
   "outputs": [],
   "source": [
    "#Retrieve Training Set Classifications\n",
    "csv_path = \"../classifications/lsst_run_one.csv\"\n",
    "clsfn = pd.read_csv(csv_path)\n",
    "subset = clsfn.loc[clsfn['workflow_name'] == \"Difference Imaging Classifier\"]\n",
    "np.shape(subset)\n",
    "im_class = []\n",
    "for item, row in subset.iterrows():\n",
    "    s_data = json.loads(row.subject_data) #Subject Data\n",
    "    s_data = s_data.get(s_data.keys()[0])\n",
    "    im=s_data.get(s_data.keys()[0])[47:-4]\n",
    "    a_data = json.loads(row.annotations)[0] #Annotations\n",
    "    classification = a_data['value']\n",
    "    im_class.append([int(im),classification])\n",
    "im_class = sorted(im_class)\n",
    "\n",
    "stack_features = \"ML_param.csv\"\n",
    "zoo_classifications = \"lsst_run_one.csv\"\n",
    "features_imp, df = zoomer.ZooMeR(stack_features, zoo_classifications)"
   ]
  },
  {
   "cell_type": "code",
   "execution_count": 30,
   "metadata": {
    "collapsed": true
   },
   "outputs": [],
   "source": [
    "#Read in the features in the data frame, filter for columns relevant for ML\n",
    "features = df.columns.tolist()\n",
    "\n",
    "features = [c for c in features if c not in [\"image\", \"Classification\"]]\n",
    "target = \"Classification\"  #Predict on Classifications\n",
    "\n",
    "#Cut 'useless' features and problematic features\n",
    "for feature in features:\n",
    "    if df[feature].isnull().all():\n",
    "        del df[feature]   \n",
    "    elif np.mean(df[feature]) == np.inf:\n",
    "        del df[feature]\n",
    "    elif \"flag\" in feature: #Flags don't contribute to ML based on initial testing\n",
    "        del df[feature]\n",
    "        \n",
    "features = df.columns.tolist()\n",
    "\n",
    "features = [c for c in features if c not in [\"image\", \"Classification\"]]"
   ]
  },
  {
   "cell_type": "code",
   "execution_count": 20,
   "metadata": {
    "collapsed": false
   },
   "outputs": [],
   "source": [
    "pca = PCA(n_components=64)\n",
    "pca.fit(features_imp);"
   ]
  },
  {
   "cell_type": "code",
   "execution_count": 19,
   "metadata": {
    "collapsed": true
   },
   "outputs": [],
   "source": [
    "print pca.explained_variance_"
   ]
  },
  {
   "cell_type": "code",
   "execution_count": null,
   "metadata": {
    "collapsed": true
   },
   "outputs": [],
   "source": []
  }
 ],
 "metadata": {
  "kernelspec": {
   "display_name": "Python 2",
   "language": "python",
   "name": "python2"
  },
  "language_info": {
   "codemirror_mode": {
    "name": "ipython",
    "version": 2
   },
   "file_extension": ".py",
   "mimetype": "text/x-python",
   "name": "python",
   "nbconvert_exporter": "python",
   "pygments_lexer": "ipython2",
   "version": "2.7.12"
  }
 },
 "nbformat": 4,
 "nbformat_minor": 0
}
