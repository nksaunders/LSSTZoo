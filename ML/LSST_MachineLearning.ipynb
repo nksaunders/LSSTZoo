{
 "cells": [
  {
   "cell_type": "code",
   "execution_count": 20,
   "metadata": {
    "collapsed": true
   },
   "outputs": [],
   "source": [
    "import sys\n",
    "reload(sys)\n",
    "sys.setdefaultencoding(\"utf-8\")\n",
    "import numpy as np\n",
    "import matplotlib.pyplot as pl\n",
    "import pandas as pd\n",
    "import astropy\n",
    "import json\n",
    "from sklearn import datasets\n",
    "from sklearn.mixture import GaussianMixture\n",
    "from sklearn.ensemble import RandomForestClassifier\n",
    "from sklearn.preprocessing import Imputer\n",
    "from sklearn.cross_validation import train_test_split\n",
    "from sklearn.metrics import mean_squared_error\n",
    "from collections import Counter\n",
    "\n",
    "%matplotlib inline"
   ]
  },
  {
   "cell_type": "code",
   "execution_count": 6,
   "metadata": {
    "collapsed": true
   },
   "outputs": [],
   "source": [
    "#Retrieve Parameters\n",
    "params = pd.read_csv(\"ML_param.csv\")\n",
    "#params.values\n",
    "#params.iterrows()\n",
    "del params['coord_dec'] #Irrelevant (Hopefully) and poorly formatted for ML\n",
    "del params['coord_ra']\n",
    "del params['id']\n",
    "del params['parent']"
   ]
  },
  {
   "cell_type": "code",
   "execution_count": 9,
   "metadata": {
    "collapsed": false
   },
   "outputs": [],
   "source": [
    "#Retrieve Training Set Classifications\n",
    "csv_path = \"../classifications/lsst_run_one.csv\"\n",
    "clsfn = pd.read_csv(csv_path)\n",
    "subset = clsfn.loc[clsfn['workflow_name'] == \"Difference Imaging Classifier\"]\n",
    "np.shape(subset)\n",
    "im_class = []\n",
    "for item, row in subset.iterrows():\n",
    "    s_data = json.loads(row.subject_data) #Subject Data\n",
    "    s_data = s_data.get(s_data.keys()[0])\n",
    "    im=s_data.get(s_data.keys()[0])[47:-4]\n",
    "    a_data = json.loads(row.annotations)[0] #Annotations\n",
    "    classification = a_data['value']\n",
    "    im_class.append([int(im),classification])\n",
    "im_class = sorted(im_class)\n",
    "# im_class"
   ]
  },
  {
   "cell_type": "code",
   "execution_count": 10,
   "metadata": {
    "collapsed": true
   },
   "outputs": [],
   "source": [
    "#Generate Data Frame that holds classifications and respective measured quantities\n",
    "#This is done as a dataframe is a more cohesive object for data analysis\n",
    "d = {}\n",
    "for key in params.keys():\n",
    "    d[key] = []\n",
    "d[\"Classification\"]=[]\n",
    "im_data = params.set_index('image').T.to_dict()\n",
    "for im in im_class:\n",
    "    d[\"Classification\"].append(im[1])\n",
    "    d[\"image\"].append(im[0])\n",
    "    dat_dict = im_data.get(im[0])\n",
    "    for key in dat_dict:\n",
    "        d[key].append(dat_dict.get(key))\n",
    "df = pd.DataFrame(d)   "
   ]
  },
  {
   "cell_type": "code",
   "execution_count": 11,
   "metadata": {
    "collapsed": true
   },
   "outputs": [],
   "source": [
    "#Read in the features in the data frame, filter for columns relevant for ML\n",
    "features = df.columns.tolist()\n",
    "\n",
    "features = [c for c in features if c not in [\"image\", \"Classification\"]]\n",
    "target = \"Classification\"  #Predict on Classifications\n",
    "\n",
    "#Cut 'useless' features and problematic features\n",
    "for feature in features:\n",
    "    if df[feature].isnull().all():\n",
    "        del df[feature]   \n",
    "    elif np.mean(df[feature]) == np.inf:\n",
    "        del df[feature]\n",
    "    elif \"flag\" in feature: #Flags don't contribute to ML based on initial testing\n",
    "        del df[feature]\n",
    "        \n",
    "features = df.columns.tolist()\n",
    "\n",
    "features = [c for c in features if c not in [\"image\", \"Classification\"]]"
   ]
  },
  {
   "cell_type": "code",
   "execution_count": 12,
   "metadata": {
    "collapsed": true
   },
   "outputs": [],
   "source": [
    "imp = Imputer(missing_values='NaN', strategy='median', axis=0, verbose = 1)\n",
    "imp.fit(df[features])\n",
    "features_imp = imp.transform(df[features])"
   ]
  },
  {
   "cell_type": "code",
   "execution_count": 13,
   "metadata": {
    "collapsed": true
   },
   "outputs": [],
   "source": [
    "#Random Forest\n",
    "RFC =  RandomForestClassifier()\n",
    "RFC = RFC.fit(features_imp,df[target])"
   ]
  },
  {
   "cell_type": "code",
   "execution_count": 15,
   "metadata": {
    "collapsed": false
   },
   "outputs": [],
   "source": [
    "feature_importance = zip(RFC.feature_importances_, features)\n",
    "# sorted(feature_importance, reverse=True)\n",
    "# df.corr()"
   ]
  },
  {
   "cell_type": "code",
   "execution_count": 16,
   "metadata": {
    "collapsed": true
   },
   "outputs": [],
   "source": [
    "#Split into Training Set and Testing Set\n",
    "\n",
    "train = df.sample(frac=0.8, random_state=1)\n",
    "test = df.loc[~df.index.isin(train.index)]\n",
    "\n",
    "imp_tt = Imputer(missing_values='NaN', strategy='median', axis=0, verbose = 1)\n",
    "imp_tt.fit(train[features])\n",
    "features_imp_tt = imp_tt.transform(train[features])\n",
    "\n",
    "#Random Forest Training/Test Split\n",
    "RFC_tt =  RandomForestClassifier()\n",
    "RFC_tt = RFC.fit(features_imp_tt,train[target])"
   ]
  },
  {
   "cell_type": "code",
   "execution_count": 17,
   "metadata": {
    "collapsed": true
   },
   "outputs": [],
   "source": [
    "imp_test = Imputer(missing_values='NaN', strategy='median', axis=0, verbose = 1)\n",
    "imp_test.fit(test[features])\n",
    "features_imp_test = imp_test.transform(test[features])\n",
    "\n",
    "predictions = RFC_tt.predict(features_imp_test)"
   ]
  },
  {
   "cell_type": "code",
   "execution_count": 18,
   "metadata": {
    "collapsed": true
   },
   "outputs": [],
   "source": [
    "for index in range(len(predictions)):\n",
    "    print predictions[index],\",\",test[\"Classification\"].tolist()[index]"
   ]
  },
  {
   "cell_type": "code",
   "execution_count": 19,
   "metadata": {
    "collapsed": true
   },
   "outputs": [],
   "source": [
    "for index in range(len(predictions)):\n",
    "    if predictions[index] != test[\"Classification\"].tolist()[index]:\n",
    "        print predictions[index],\",\",test[\"Classification\"].tolist()[index],\",\",test[\"image\"].tolist()[index]"
   ]
  },
  {
   "cell_type": "code",
   "execution_count": 21,
   "metadata": {
    "collapsed": true
   },
   "outputs": [],
   "source": [
    "pred_mapping = {}\n",
    "for index in range(len(predictions)):\n",
    "    pred_name = predictions[index]\n",
    "    class_name = test[\"Classification\"].tolist()[index]\n",
    "    if pred_name in pred_mapping:\n",
    "        pred_mapping[pred_name].append(class_name)\n",
    "    else:\n",
    "        pred_mapping[pred_name] = [class_name]\n",
    "        \n",
    "for pred_name, pred_value in pred_mapping.iteritems():\n",
    "    print pred_name, Counter(pred_value)"
   ]
  },
  {
   "cell_type": "code",
   "execution_count": 23,
   "metadata": {
    "collapsed": true
   },
   "outputs": [],
   "source": [
    "agree=0\n",
    "disagree=0\n",
    "for index in range(len(predictions)):\n",
    "    if predictions[index] == test[\"Classification\"].tolist()[index]:\n",
    "        agree+=1\n",
    "    else:\n",
    "        disagree+=1\n",
    "print \"Agree: \"+ str(agree), \"Disagree: \"+ str(disagree)"
   ]
  },
  {
   "cell_type": "code",
   "execution_count": null,
   "metadata": {
    "collapsed": true
   },
   "outputs": [],
   "source": []
  }
 ],
 "metadata": {
  "kernelspec": {
   "display_name": "Python 2",
   "language": "python",
   "name": "python2"
  },
  "language_info": {
   "codemirror_mode": {
    "name": "ipython",
    "version": 2
   },
   "file_extension": ".py",
   "mimetype": "text/x-python",
   "name": "python",
   "nbconvert_exporter": "python",
   "pygments_lexer": "ipython2",
   "version": "2.7.12"
  }
 },
 "nbformat": 4,
 "nbformat_minor": 0
}
